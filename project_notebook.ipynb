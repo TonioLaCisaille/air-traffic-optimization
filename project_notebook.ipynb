{
 "cells": [
  {
   "cell_type": "markdown",
   "metadata": {},
   "source": [
    "# Aviation optimization project\n",
    "The goal of this project is to optimize the flight offer between Toulouse and Palerme. More specifically, this script aims to extract and process data that could be useful for this project."
   ]
  },
  {
   "cell_type": "code",
   "execution_count": 46,
   "metadata": {},
   "outputs": [],
   "source": [
    "import pandas as pd\n",
    "from fuel_consumption import fuel_consumption"
   ]
  },
  {
   "cell_type": "code",
   "execution_count": 47,
   "metadata": {},
   "outputs": [],
   "source": [
    "# Reading the flights data\n",
    "Flights_march_2019 = pd.read_csv('C:/Users/anton/OneDrive - ISAE-SUPAERO/Documents/MES DOC/SUPAERO/4A/Domaine - ETE/projet ETE aviation/Flights_20190301_20190331.csv')\n",
    "# print(Flights_march_2019.head())"
   ]
  },
  {
   "cell_type": "code",
   "execution_count": 48,
   "metadata": {},
   "outputs": [
    {
     "name": "stdout",
     "output_type": "stream",
     "text": [
      "Orly-Palerme flights:\n",
      "          ECTRL ID  ADEP  ADEP Latitude  ADEP Longitude  ADES  ADES Latitude  \\\n",
      "8070    227751872  LFPO       48.72333         2.37944  LICJ       38.18194   \n",
      "76161   227824084  LFPO       48.72333         2.37944  LICJ       38.18194   \n",
      "185538  227941977  LFPO       48.72333         2.37944  LICJ       38.18194   \n",
      "253606  228013976  LFPO       48.72333         2.37944  LICJ       38.18194   \n",
      "363563  228132710  LFPO       48.72333         2.37944  LICJ       38.18194   \n",
      "432071  228205361  LFPO       48.72333         2.37944  LICJ       38.18194   \n",
      "542257  228326017  LFPO       48.72333         2.37944  LICJ       38.18194   \n",
      "610520  228399316  LFPO       48.72333         2.37944  LICJ       38.18194   \n",
      "721246  228520294  LFPO       48.72333         2.37944  LICJ       38.18194   \n",
      "779456  228582952  LFPO       48.72333         2.37944  LICJ       38.18194   \n",
      "\n",
      "        ADES Longitude FILED OFF BLOCK TIME   FILED ARRIVAL TIME  \\\n",
      "8070          13.09944  01-03-2019 09:20:00  01-03-2019 11:27:34   \n",
      "76161         13.09944  04-03-2019 05:00:00  04-03-2019 07:11:45   \n",
      "185538        13.09944  08-03-2019 09:20:00  08-03-2019 11:27:57   \n",
      "253606        13.09944  11-03-2019 05:00:00  11-03-2019 07:04:54   \n",
      "363563        13.09944  15-03-2019 09:20:00  15-03-2019 11:25:24   \n",
      "432071        13.09944  18-03-2019 05:00:00  18-03-2019 07:08:19   \n",
      "542257        13.09944  22-03-2019 09:20:00  22-03-2019 11:37:45   \n",
      "610520        13.09944  25-03-2019 05:00:00  25-03-2019 07:16:28   \n",
      "721246        13.09944  29-03-2019 09:20:00  29-03-2019 11:33:18   \n",
      "779456        13.09944  31-03-2019 14:45:00  31-03-2019 16:41:05   \n",
      "\n",
      "       ACTUAL OFF BLOCK TIME  ACTUAL ARRIVAL TIME AC Type AC Operator  \\\n",
      "8070     01-03-2019 09:24:00  01-03-2019 11:24:32    B738         TVF   \n",
      "76161    04-03-2019 05:06:00  04-03-2019 07:16:45    B738         TVF   \n",
      "185538   08-03-2019 09:29:00  08-03-2019 11:36:24    B738         TVF   \n",
      "253606   11-03-2019 05:01:00  11-03-2019 07:08:28    B738         TVF   \n",
      "363563   15-03-2019 09:29:00  15-03-2019 11:31:31    B738         TVF   \n",
      "432071   18-03-2019 05:03:00  18-03-2019 07:11:53    B738         TVF   \n",
      "542257   22-03-2019 09:34:00  22-03-2019 11:52:48    B738         TVF   \n",
      "610520   25-03-2019 05:07:00  25-03-2019 07:17:58    B738         TVF   \n",
      "721246   29-03-2019 09:25:00  29-03-2019 11:34:28    B738         TVF   \n",
      "779456   31-03-2019 14:44:00  31-03-2019 16:52:32    B738         TVF   \n",
      "\n",
      "       AC Registration ICAO Flight Type STATFOR Market Segment  Requested FL  \\\n",
      "8070             FHTVG                S                Lowcost         350.0   \n",
      "76161            FGZHV                S                Lowcost         370.0   \n",
      "185538           FGZHL                S                Lowcost         370.0   \n",
      "253606           FGZHK                S                Lowcost         370.0   \n",
      "363563           FHTVE                S                Lowcost         370.0   \n",
      "432071           FHTVA                S                Lowcost         370.0   \n",
      "542257           FGZHZ                S                Lowcost         370.0   \n",
      "610520           FHTVK                S                Lowcost         370.0   \n",
      "721246           FGZHN                S                Lowcost         370.0   \n",
      "779456           FHTVK                S                Lowcost         370.0   \n",
      "\n",
      "        Actual Distance Flown (nm)  \n",
      "8070                           845  \n",
      "76161                          822  \n",
      "185538                         819  \n",
      "253606                         855  \n",
      "363563                         837  \n",
      "432071                         820  \n",
      "542257                         841  \n",
      "610520                         827  \n",
      "721246                         845  \n",
      "779456                         837  \n"
     ]
    }
   ],
   "source": [
    "# Getting all ORY-PMO flights\n",
    "flights_ORY_PMO = Flights_march_2019[(Flights_march_2019['ADEP'] == 'LFPO') & (Flights_march_2019['ADES'] == 'LICJ')]\n",
    "print(\"Orly-Palerme flights:\\n\",flights_ORY_PMO)\n"
   ]
  },
  {
   "cell_type": "code",
   "execution_count": 49,
   "metadata": {},
   "outputs": [],
   "source": [
    "# Getting all TLS-ORY and TLS-CDG flights\n",
    "flights_TLS_ORY = Flights_march_2019[(Flights_march_2019['ADEP'] == 'LFBO') & (Flights_march_2019['ADES'] == 'LFPO')]\n",
    "# print(\"Toulouse-Orly flights:\\n\",flights_TLS_ORY.head())"
   ]
  },
  {
   "cell_type": "code",
   "execution_count": 50,
   "metadata": {},
   "outputs": [],
   "source": [
    "# Getting all TLS-CDG flights\n",
    "flights_TLS_CDG = Flights_march_2019[(Flights_march_2019['ADEP'] == 'LFBO') & (Flights_march_2019['ADES'] == 'LFPG')]\n",
    "# print(\"Toulouse-CDG flights:\\n\",flights_TLS_CDG)"
   ]
  },
  {
   "cell_type": "code",
   "execution_count": 52,
   "metadata": {},
   "outputs": [
    {
     "name": "stdout",
     "output_type": "stream",
     "text": [
      "Orly latitude:\n",
      " 48.72333\n",
      "Orly longitude:\n",
      " 2.37944\n",
      "Palerme latitude:\n",
      " 38.18194\n",
      "Palerme longitude:\n",
      " 13.09944\n",
      "Orly-Palerme aircraft type:\n",
      " B738\n",
      "Fuel consumption for Orly-Palerme by Transavia in kg\n",
      " 5621.476718395879\n"
     ]
    }
   ],
   "source": [
    "# Computing the fuel burned for one Orly-Palerme flight operated by AirFrance\n",
    "flights_ORY_PMO_by_Transavia = Flights_march_2019[(Flights_march_2019['ADEP'] == 'LFPO') & (Flights_march_2019['ADES'] == 'LICJ') & (Flights_march_2019['AC Operator'] == \"TVF\")]\n",
    "# print(\"Orly-Palerme flights operated by Transavia:\\n\",flights_ORY_PMO_by_Transavia)\n",
    "ORY_latitude_degree = flights_ORY_PMO_by_Transavia.iloc[0,2]\n",
    "print(\"Orly latitude:\\n\",ORY_latitude_degree)\n",
    "ORY_longitude_degree = flights_ORY_PMO_by_Transavia.iloc[0,3]\n",
    "print(\"Orly longitude:\\n\",ORY_longitude_degree)\n",
    "PMO_latitude_degree = flights_ORY_PMO_by_Transavia.iloc[0,5]\n",
    "print(\"Palerme latitude:\\n\",PMO_latitude_degree)\n",
    "PMO_longitude_degree = flights_ORY_PMO_by_Transavia.iloc[0,6]\n",
    "print(\"Palerme longitude:\\n\",PMO_longitude_degree)\n",
    "ORY_PMO_ac_type = flights_ORY_PMO_by_Transavia.iloc[0,11]\n",
    "print(\"Orly-Palerme aircraft type:\\n\",ORY_PMO_ac_type)\n",
    "fuel_burned_ORY_PMO_A320 = fuel_consumption(ORY_PMO_ac_type,ORY_latitude_degree,ORY_longitude_degree,PMO_latitude_degree,PMO_longitude_degree)\n",
    "print(\"Fuel consumption for Orly-Palerme by Transavia in kg\\n\",fuel_burned_ORY_PMO_A320)"
   ]
  }
 ],
 "metadata": {
  "kernelspec": {
   "display_name": "projet_ETE_aviation",
   "language": "python",
   "name": "python3"
  },
  "language_info": {
   "codemirror_mode": {
    "name": "ipython",
    "version": 3
   },
   "file_extension": ".py",
   "mimetype": "text/x-python",
   "name": "python",
   "nbconvert_exporter": "python",
   "pygments_lexer": "ipython3",
   "version": "3.8.20"
  }
 },
 "nbformat": 4,
 "nbformat_minor": 2
}
